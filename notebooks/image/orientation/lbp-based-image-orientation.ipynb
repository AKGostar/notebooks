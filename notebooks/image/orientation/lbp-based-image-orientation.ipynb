{
 "cells": [
  {
   "cell_type": "code",
   "execution_count": 2,
   "metadata": {},
   "outputs": [],
   "source": [
    "%load_ext Cython"
   ]
  },
  {
   "cell_type": "code",
   "execution_count": 3,
   "metadata": {},
   "outputs": [],
   "source": [
    "import numpy as np\n",
    "import skimage.io\n",
    "import matplotlib.pyplot as plt\n",
    "from scipy import interpolate\n",
    "\n",
    "import itertools\n",
    "import collections\n",
    "import urllib.request as request"
   ]
  },
  {
   "cell_type": "markdown",
   "metadata": {},
   "source": [
    "# Local Binary Patterns\n",
    "\n",
    "## Circularly Symmetric Neighbor Set\n",
    "\n",
    "We define a texture *T* as the collection of pixels in a gray scale image\n",
    "\n",
    "$$T = t(g_c, g_0, ..., g_{P-1})$$\n",
    "\n",
    "where $p_c$ is the value of the center pixel and $g_p$ corresponds to the value of a local neighboor. To calculate the coordinates of a neighbor we need the following formulas\n",
    "$$i = -R\\sin\\big(\\frac{2\\pi p}{ P}\\big)$$\n",
    "\n",
    "and\n",
    "\n",
    "$$j = R\\cos\\big(\\frac{2\\pi p}{P}\\big)$$"
   ]
  },
  {
   "cell_type": "code",
   "execution_count": 48,
   "metadata": {},
   "outputs": [],
   "source": [
    "%%cython\n",
    "from libc.math cimport sin, cos, pi, ceil, floor\n",
    "import numpy as np\n",
    "cimport numpy as np\n",
    "\n",
    "def calculate_neighborhood(int x0, int y0, int P, int R):\n",
    "    cdef int p\n",
    "    cdef np.ndarray[np.double_t, ndim=2] neighbors = np.zeros([P, 2], dtype=np.double)\n",
    "    \n",
    "    for p in range(P):\n",
    "        neighbors[p, 0] = x0 + R * cos(2 * pi * p / P)\n",
    "        neighbors[p, 1] = y0 - R * sin(2 * pi * p / P)\n",
    "    \n",
    "    return neighbors"
   ]
  },
  {
   "cell_type": "code",
   "execution_count": 49,
   "metadata": {},
   "outputs": [],
   "source": [
    "def plot_neigborhood(x, y):\n",
    "    plt.scatter(x, y)\n",
    "    plt.axis('square')\n",
    "    plt.grid(True)\n",
    "    plt.xticks(np.arange(-2, 3, 1.0))\n",
    "    plt.yticks(np.arange(-2, 3, 1.0))\n",
    "    plt.show()"
   ]
  },
  {
   "cell_type": "code",
   "execution_count": 50,
   "metadata": {},
   "outputs": [
    {
     "data": {
      "image/png": "[encoded data removed]",
      "text/plain": [
       "<Figure size 432x288 with 1 Axes>"
      ]
     },
     "metadata": {
      "needs_background": "light"
     },
     "output_type": "display_data"
    }
   ],
   "source": [
    "R = 2\n",
    "P = 16\n",
    "x0 = 0\n",
    "y0 = 0\n",
    "\n",
    "coordinates = calculate_neighborhood(x0, y0, P, R)\n",
    "\n",
    "x = coordinates[:, 0]\n",
    "y = coordinates[:, 1]\n",
    "\n",
    "plot_neigborhood(x, y)"
   ]
  },
  {
   "cell_type": "markdown",
   "metadata": {},
   "source": [
    "### Interpolation\n",
    "\n",
    "When a neighbor is not located in the center of a pixel, that neighbor value should be calculated by interpolation. Thus, we need to define a function that given a coordinate, interpolates the value."
   ]
  },
  {
   "cell_type": "code",
   "execution_count": 40,
   "metadata": {},
   "outputs": [],
   "source": [
    "%%cython\n",
    "from libc.math cimport sin, cos, pi, ceil, floor\n",
    "import numpy as np\n",
    "cimport numpy as np\n",
    "from libc.stdlib cimport abort, malloc, free\n",
    "\n",
    "cdef double get_pixel2d(\n",
    "    double *image,\n",
    "    Py_ssize_t n_rows, \n",
    "    Py_ssize_t n_cols,\n",
    "    long x,\n",
    "    long y) nogil:\n",
    "    \n",
    "    if (y < 0) or (y >= n_rows) or (x < 0) or (x >= n_cols):\n",
    "        return 0\n",
    "    else:\n",
    "        return image[y * n_cols + x]\n",
    "\n",
    "cdef double bilinear_interpolation(\n",
    "    double *image,\n",
    "    Py_ssize_t n_rows,\n",
    "    Py_ssize_t n_cols,\n",
    "    double x,\n",
    "    double y) nogil:\n",
    "    \n",
    "    cdef double d_y, d_x, top_left, top_right, bottom_left, bottom_right\n",
    "    cdef long min_y, min_x, max_y, max_x\n",
    "\n",
    "    min_y = <long>floor(y)\n",
    "    min_x = <long>floor(x)\n",
    "    max_y = <long>ceil(y)\n",
    "    max_x = <long>ceil(x)\n",
    "    \n",
    "    d_y = y - min_y\n",
    "    d_x = x - min_x\n",
    "    \n",
    "    top_left = get_pixel2d(image, n_rows, n_cols, min_x, min_y)\n",
    "    top_right = get_pixel2d(image, n_rows, n_cols, max_x, min_y)\n",
    "    bottom_left = get_pixel2d(image, n_rows, n_cols, min_x, max_y)\n",
    "    bottom_right = get_pixel2d(image, n_rows, n_cols, max_x, max_y)\n",
    "    \n",
    "    top = (1 - d_x) * top_left + d_x * top_right\n",
    "    bottom = (1 - d_x) * bottom_left + d_x * bottom_right\n",
    "\n",
    "    return (1 - d_y) * top + d_y * bottom"
   ]
  },
  {
   "cell_type": "code",
   "execution_count": 41,
   "metadata": {},
   "outputs": [
    {
     "name": "stdout",
     "output_type": "stream",
     "text": [
      "3.05 µs ± 395 ns per loop (mean ± std. dev. of 7 runs, 100 loops each)\n"
     ]
    }
   ],
   "source": [
    "%timeit -n100 jdd(gray_img, 204, 20, 16, 2)"
   ]
  },
  {
   "cell_type": "code",
   "execution_count": 11,
   "metadata": {},
   "outputs": [],
   "source": [
    "def calculate_neiborhood_values(neigborhood, interpolation_function):\n",
    "    gray_values = np.apply_along_axis(lambda pt: interpolation_function(*pt), axis=1, arr=neigborhood)\n",
    "    return gray_values.ravel()"
   ]
  },
  {
   "cell_type": "code",
   "execution_count": null,
   "metadata": {},
   "outputs": [],
   "source": [
    "%%cython\n",
    "import numpy as np\n",
    "cimport numpy as np\n",
    "from scipy import interpolate\n",
    "cimport cython\n",
    "from libc.math cimport sin, cos, pi\n",
    "from libc.stdlib cimport abort, malloc, free    \n",
    "\n",
    "cdef calculate_neighborhood(int x0, int y0, int P, int R) nogil:\n",
    "    cdef int p\n",
    "    cdef np.ndarray[np.double_t, ndim=2] neighbors = np.zeros([P, 2], dtype=np.double)\n",
    "    \n",
    "    for p in range(P):\n",
    "        neighbors[p, 0] = x0 + R * cos(2 * pi * p / P)\n",
    "        neighbors[p, 1] = y0 - R * sin(2 * pi * p / P)\n",
    "    \n",
    "    return neighbors\n",
    "\n",
    "@cython.boundscheck(False)\n",
    "@cython.wraparound(False)\n",
    "cdef test(int n):\n",
    "    cdef int i\n",
    "    cdef int x0 = 0\n",
    "    cdef int y0 = 0\n",
    "    cdef int P = 16\n",
    "    cdef int R = 2\n",
    "\n",
    "    for i in xrange(n):\n",
    "        calculate_neighborhood(x0, y0, P, R)"
   ]
  },
  {
   "cell_type": "code",
   "execution_count": null,
   "metadata": {},
   "outputs": [],
   "source": [
    "%%time\n",
    "test(600*600)"
   ]
  },
  {
   "cell_type": "markdown",
   "metadata": {},
   "source": [
    "### Joint Difference Distribution\n",
    "\n",
    "The joint difference distribution is a highly discriminative texture operator. It records the ocurrences of various patterns in the neighborhood of each pixel in a P-dimentional histogram.\n",
    "\n",
    "$$T \\approx t(g_0 - g_c, g_1 - g_c, ... g_{p-1} - g_c)$$\n",
    "\n",
    "where $g_0$ is the gray value of the center pixel and $g_p$ is the gray value of the $p$ neighbor. This distribution is invariant against gray-scale shifts."
   ]
  },
  {
   "cell_type": "code",
   "execution_count": null,
   "metadata": {},
   "outputs": [],
   "source": [
    "cdef double *joint_difference_distribution(\n",
    "    double *image,\n",
    "    Py_ssize_t n_rows,\n",
    "    Py_ssize_t n_cols,\n",
    "    int x0,\n",
    "    int y0,\n",
    "    int P,\n",
    "    int R\n",
    ") nogil:\n",
    "    cdef Py_ssize_t p\n",
    "    cdef double *T = <double *> malloc(sizeof(double) * P)\n",
    "    cdef double x, y, gp\n",
    "    \n",
    "    if T is NULL:\n",
    "        abort()\n",
    "        \n",
    "    gc = get_pixel2d(image, n_rows, n_cols, x0, y0)\n",
    "    \n",
    "    for p in range(P):\n",
    "        x = x0 + R * cos(2 * pi * p / P)\n",
    "        y = y0 - R * sin(2 * pi * p / P)\n",
    "        gp = bilinear_interpolation(image, n_rows, n_cols, x, y)\n",
    "        T[p] = gp - gc\n",
    "    \n",
    "    return T"
   ]
  },
  {
   "cell_type": "markdown",
   "metadata": {},
   "source": [
    "## Binary Joint Distribution"
   ]
  },
  {
   "cell_type": "code",
   "execution_count": null,
   "metadata": {},
   "outputs": [],
   "source": [
    "cdef int *binary_joint_distribution(double *T, Py_ssize_t T_size) nogil:\n",
    "    cdef int *s_T = <int *> malloc(sizeof(int) * T_size)\n",
    "    cdef Py_ssize_t i = 0\n",
    "    \n",
    "    for t in range(T_size):\n",
    "        if T[t] >= 0.0:\n",
    "            s_T[t] = 1\n",
    "        else:\n",
    "            s_T[t] = 0\n",
    "    \n",
    "    return s_T"
   ]
  },
  {
   "cell_type": "markdown",
   "metadata": {},
   "source": [
    "### Local Binary Pattern\n",
    "\n",
    "$LBP_{P,R}$ operater is by definition invariant against any monotonic transformation of the gray scale. As long as the order of the gray values stays the same, the output of the $LBP_{P,R}$ operator remains constant.\n",
    "\n",
    "$$LBP_{P,R} = \\sum_{p=0}^{P-1} s(g_p - g_c) 2^p$$\n",
    "\n",
    "where \n",
    "\n",
    "$$s(x) = \n",
    "\\begin{cases} \n",
    "    1 & x\\geq0 \\\\\n",
    "    0 & x<0\n",
    "\\end{cases}\n",
    "$$"
   ]
  },
  {
   "cell_type": "code",
   "execution_count": null,
   "metadata": {},
   "outputs": [],
   "source": [
    "def LBP(gray_img, center_coordinates, P, R):\n",
    "    s = binary_joint_distribution(gray_img, center_coordinates, P, R)\n",
    "    p = np.arange(0, P)\n",
    "    binomial_factor = 2 ** p\n",
    "    return np.sum(binomial_factor * s)"
   ]
  },
  {
   "cell_type": "markdown",
   "metadata": {},
   "source": [
    "### Uniform Local Binary Patterns\n",
    "\n",
    "In [3], Ojala mentions that in their practical experience LBP is not a good discriminator. They propose just to select the set of local binary patterns such that the number of spatial transitions (bitwise 0/1 changes) does not exeed 2. \n",
    "\n",
    "For example, the pattern '1111' has 0 spatial transitions, the pattern '1100' has 1 spatial transitions and the pattern '1101' has 2 spatial transitions. Thus, the uniform local binary patterns are defined as:\n",
    "\n",
    "$$LBP_{P,R}^{u2} = \n",
    "\\begin{cases} \n",
    "    \\sum_{p=0}^{P-1} s(g_p - g_c) & U(LBP_{P,R}) \\leq 2 \\\\\n",
    "    P + 1 & otherwise,\n",
    "\\end{cases}\n",
    "$$\n",
    "\n",
    "where\n",
    "\n",
    "$$U(LBP_{P, R}) = |s(g_{P-1} - g_c) - s(g_0 - g_c)| + \\sum_{p=1}^{P-1} |s(g_p - g_c) - s(g_{p-1} - g_c)|$$\n",
    "\n",
    "Given that the number of uniform patterns is finite. We can create a hash table with the pre-values of $LBP_{P,R}^{u2}$ just for the uniform patterns. "
   ]
  },
  {
   "cell_type": "code",
   "execution_count": null,
   "metadata": {},
   "outputs": [],
   "source": [
    "@jit(nopython=True)\n",
    "def is_uniform(pattern):\n",
    "    count = 0\n",
    "    for idx in range(len(pattern) - 1):\n",
    "        count += pattern[idx] ^ pattern[idx + 1]\n",
    "        if count > 2:\n",
    "            return False\n",
    "    return True\n",
    "\n",
    "@jit(nopython=True)\n",
    "def uniform_patterns(P):\n",
    "    patterns = itertools.product([0, 1], repeat=P)\n",
    "    u_patterns = [pattern for pattern in patterns if is_uniform(pattern)]\n",
    "    \n",
    "    return [''.join(str(elem) for elem in elems) for elems in u_patterns]"
   ]
  },
  {
   "cell_type": "code",
   "execution_count": null,
   "metadata": {},
   "outputs": [],
   "source": [
    "@jit(nopython=True)\n",
    "def LBP_uniform(gray_img, center_coordinates, P, R, uniform_patterns):\n",
    "    s = binary_joint_distribution(gray_img, center_coordinates, P, R)\n",
    "    pattern = ''.join([str(elem) for elem in s])\n",
    "    p = np.arange(0, P)\n",
    "    binomial_factor = 2 ** p\n",
    "    \n",
    "    return sum(s) if pattern in uniform_patterns else P + 1 "
   ]
  },
  {
   "cell_type": "markdown",
   "metadata": {},
   "source": [
    "## Conversion RGB a YUV\n",
    "\n",
    "According to [1], converting from RGB to Y'UV we need the following equations:\n",
    "\n",
    "$$Y' = W_R R + W_G G + W_b B$$\n",
    "\n",
    "$$U = U_{max} \\frac{B - Y'}{1 - W_B}$$\n",
    "\n",
    "$$V = V_{max} \\frac{R - Y'}{1 - W_R}$$\n",
    "\n",
    "$$W_R = 0.299;\\hspace{0.5em}W_G = 1 - W_R - W_B;\\hspace{0.5em}W_B = 0.114;\\hspace{0.5em}U_{max} = 0.436;\\hspace{0.5em}V_{max} = 0.615$$\n",
    "\n",
    "where R, G, B are the matrix representation of red, green and blue channels. The previous equations, can be represented as a matrix multiplication\n",
    "\n",
    "$$\n",
    "\\begin{bmatrix}\n",
    "        Y'  \\\\\n",
    "        U \\\\\n",
    "        V\n",
    "\\end{bmatrix} =\n",
    "\\begin{bmatrix}\n",
    "        0.299 & 0.587 & 1.114 &  \\\\\n",
    "        -0.14713 & -0.28886 & 0.436 \\\\\n",
    "        0.615 & -0.51499 & -0.10001\n",
    "\\end{bmatrix}\n",
    "\\begin{bmatrix}\n",
    "        R  \\\\\n",
    "        G \\\\\n",
    "        B\n",
    "\\end{bmatrix}\n",
    "$$\n",
    "\n",
    "*Hint: I took more precise weights from [2]"
   ]
  },
  {
   "cell_type": "code",
   "execution_count": null,
   "metadata": {},
   "outputs": [],
   "source": [
    "def rgb2yuv(rgb):\n",
    "    error_message = 'The image must be RBG'\n",
    "    assert len(rgb.shape)== 3, error_message\n",
    "    assert rgb.shape[-1] == 3, error_message\n",
    "    \n",
    "    W = np.array([\n",
    "        [ 0.299     ,  0.587     ,  0.114      ],\n",
    "        [-0.14714119, -0.28886916,  0.43601035 ],\n",
    "        [ 0.61497538, -0.51496512, -0.10001026 ]\n",
    "    ])\n",
    "    \n",
    "    return rgb @ W.T"
   ]
  },
  {
   "cell_type": "markdown",
   "metadata": {},
   "source": [
    "# Color Moments\n",
    "\n",
    "### Mean\n",
    "$$\\mu_i = \\frac{1}{N} \\sum_{j=1}^N p_{ij}$$\n",
    "\n",
    "where *N* is the number of pixes in the image and $p_{ij}$ is the value of the j-th pixel of the i-th color channel. \n",
    "\n",
    "### Standard Deviation\n",
    "\n",
    "$$\\sigma_i = \\sqrt{\\frac{1}{N} \\sum_{j=1}^N (p_{ij} - \\mu_i) ^ 2}$$\n",
    "\n",
    "where $\\mu_i$ is the mean of the i-th color channel."
   ]
  },
  {
   "cell_type": "code",
   "execution_count": null,
   "metadata": {},
   "outputs": [],
   "source": [
    "def color_moment(image, order=1):\n",
    "    dim = image.ndim\n",
    "    axis = tuple([i for i in range(img.ndim - 1)])\n",
    "    \n",
    "    if order == 1:\n",
    "        return np.mean(image, axis=axis)\n",
    "    if order == 2:\n",
    "        return np.std(image, axis=axis)\n",
    "    else:\n",
    "        raise ValueError('Order should be 1 for mean or 2 for std')"
   ]
  },
  {
   "cell_type": "markdown",
   "metadata": {},
   "source": [
    "## Auxiliary Functions"
   ]
  },
  {
   "cell_type": "code",
   "execution_count": 7,
   "metadata": {},
   "outputs": [],
   "source": [
    "def load_image(url, as_gray=False):\n",
    "    image_stream = request.urlopen(url)\n",
    "    return skimage.io.imread(image_stream, as_gray=as_gray, plugin='pil')\n",
    "\n",
    "import skimage.color\n",
    "\n",
    "url = 'https://www.propertyfinder.ae/property/9607847b4ffe15366c4cae076dafb4f3/668/452/MODE/e71028/5993980-3b974o.webp'\n",
    "img = load_image(url, False)\n",
    "img_rgb = skimage.color.rgba2rgb(img)"
   ]
  },
  {
   "cell_type": "code",
   "execution_count": null,
   "metadata": {},
   "outputs": [],
   "source": [
    "axis = tuple([i for i in range(img.ndim - 1)])\n",
    "np.mean(img, axis=axis)"
   ]
  },
  {
   "cell_type": "code",
   "execution_count": null,
   "metadata": {},
   "outputs": [],
   "source": [
    "color_moment(img_rgb, order=1)"
   ]
  },
  {
   "cell_type": "code",
   "execution_count": null,
   "metadata": {
    "scrolled": true
   },
   "outputs": [],
   "source": [
    "rgb2yuv(img_rgb)"
   ]
  },
  {
   "cell_type": "code",
   "execution_count": 8,
   "metadata": {},
   "outputs": [],
   "source": [
    "gray_img = skimage.color.rgb2gray(img_rgb)\n",
    "\n",
    "# R = 2\n",
    "# P = 16\n",
    "# center_coordinates = [301, 305]\n",
    "# u_patterns = uniform_patterns(P)"
   ]
  },
  {
   "cell_type": "code",
   "execution_count": null,
   "metadata": {},
   "outputs": [],
   "source": [
    "%%time\n",
    "print('The binary joint distribution is:', binary_joint_distribution(gray_img, center_coordinates, P, R))"
   ]
  },
  {
   "cell_type": "code",
   "execution_count": null,
   "metadata": {},
   "outputs": [],
   "source": [
    "%%time\n",
    "print('The LBP value is:', LBP(gray_img, center_coordinates, P, R))"
   ]
  },
  {
   "cell_type": "code",
   "execution_count": null,
   "metadata": {},
   "outputs": [],
   "source": [
    "%%time\n",
    "print('The LBP uniform value is:', LBP_uniform(gray_img, center_coordinates, P, R, u_patterns))"
   ]
  },
  {
   "cell_type": "code",
   "execution_count": null,
   "metadata": {},
   "outputs": [],
   "source": [
    "@jit(nopython=True, parallel=True)\n",
    "def test(gray_img, P, R, u_patterns):\n",
    "    h, w = gray_img.shape\n",
    "    lbp_uniform = np.zeros((w, h))\n",
    "    \n",
    "    for i in range(20):\n",
    "        for j in range(20):\n",
    "            lbp_uniform[i, j] = LBP_uniform(gray_img, (i, j), P, R, u_patterns)"
   ]
  },
  {
   "cell_type": "code",
   "execution_count": null,
   "metadata": {},
   "outputs": [],
   "source": [
    "test(gray_img, P, R, u_patterns)"
   ]
  },
  {
   "cell_type": "code",
   "execution_count": null,
   "metadata": {},
   "outputs": [],
   "source": [
    "from skimage.feature import local_binary_pattern\n",
    "\n",
    "features = local_binary_pattern(gray_img, 16, 2, 'nri_uniform')"
   ]
  },
  {
   "cell_type": "code",
   "execution_count": null,
   "metadata": {},
   "outputs": [],
   "source": [
    "y, x, z = plt.hist(features.ravel(), bins=int(np.max(features)))"
   ]
  },
  {
   "cell_type": "code",
   "execution_count": 50,
   "metadata": {},
   "outputs": [
    {
     "name": "stderr",
     "output_type": "stream",
     "text": [
      "\n",
      "Error compiling Cython file:\n",
      "------------------------------------------------------------\n",
      "...\n",
      "    cdef Py_ssize_t n_cols\n",
      "    \n",
      "    n_rows = image.shape[0]\n",
      "    n_cols = image.shape[1]\n",
      "    \n",
      "    return _bilinear_interpolation(&image[0][0], n_rows, n_cols, x, y)\n",
      "          ^\n",
      "------------------------------------------------------------\n",
      "\n",
      "/home/rocampo/.cache/ipython/cython/_cython_magic_ab56621a90a1fa8d68c29369629ea236.pyx:9:11: undeclared name not builtin: _bilinear_interpolation\n",
      "\n",
      "Error compiling Cython file:\n",
      "------------------------------------------------------------\n",
      "...\n",
      "    cdef Py_ssize_t n_cols\n",
      "    \n",
      "    n_rows = image.shape[0]\n",
      "    n_cols = image.shape[1]\n",
      "    \n",
      "    return _bilinear_interpolation(&image[0][0], n_rows, n_cols, x, y)\n",
      "                                  ^\n",
      "------------------------------------------------------------\n",
      "\n",
      "/home/rocampo/.cache/ipython/cython/_cython_magic_ab56621a90a1fa8d68c29369629ea236.pyx:9:35: Cannot convert 'double *' to Python object\n"
     ]
    },
    {
     "ename": "TypeError",
     "evalue": "object of type 'NoneType' has no len()",
     "output_type": "error",
     "traceback": [
      "\u001b[0;31m---------------------------------------------------------------------------\u001b[0m",
      "\u001b[0;31mTypeError\u001b[0m                                 Traceback (most recent call last)",
      "\u001b[0;32m<ipython-input-50-f4bee4d1bf6f>\u001b[0m in \u001b[0;36m<module>\u001b[0;34m()\u001b[0m\n\u001b[0;32m----> 1\u001b[0;31m \u001b[0mget_ipython\u001b[0m\u001b[0;34m(\u001b[0m\u001b[0;34m)\u001b[0m\u001b[0;34m.\u001b[0m\u001b[0mrun_cell_magic\u001b[0m\u001b[0;34m(\u001b[0m\u001b[0;34m'cython'\u001b[0m\u001b[0;34m,\u001b[0m \u001b[0;34m''\u001b[0m\u001b[0;34m,\u001b[0m \u001b[0;34m'\\ncpdef bilinear_interpolation(double[:, ::1] image, double x, double y):\\n    cdef Py_ssize_t n_rows\\n    cdef Py_ssize_t n_cols\\n    \\n    n_rows = image.shape[0]\\n    n_cols = image.shape[1]\\n    \\n    return _bilinear_interpolation(&image[0][0], n_rows, n_cols, x, y)'\u001b[0m\u001b[0;34m)\u001b[0m\u001b[0;34m\u001b[0m\u001b[0m\n\u001b[0m",
      "\u001b[0;32m/usr/local/lib/python3.7/site-packages/IPython/core/interactiveshell.py\u001b[0m in \u001b[0;36mrun_cell_magic\u001b[0;34m(self, magic_name, line, cell)\u001b[0m\n\u001b[1;32m   2165\u001b[0m             \u001b[0mmagic_arg_s\u001b[0m \u001b[0;34m=\u001b[0m \u001b[0mself\u001b[0m\u001b[0;34m.\u001b[0m\u001b[0mvar_expand\u001b[0m\u001b[0;34m(\u001b[0m\u001b[0mline\u001b[0m\u001b[0;34m,\u001b[0m \u001b[0mstack_depth\u001b[0m\u001b[0;34m)\u001b[0m\u001b[0;34m\u001b[0m\u001b[0m\n\u001b[1;32m   2166\u001b[0m             \u001b[0;32mwith\u001b[0m \u001b[0mself\u001b[0m\u001b[0;34m.\u001b[0m\u001b[0mbuiltin_trap\u001b[0m\u001b[0;34m:\u001b[0m\u001b[0;34m\u001b[0m\u001b[0m\n\u001b[0;32m-> 2167\u001b[0;31m                 \u001b[0mresult\u001b[0m \u001b[0;34m=\u001b[0m \u001b[0mfn\u001b[0m\u001b[0;34m(\u001b[0m\u001b[0mmagic_arg_s\u001b[0m\u001b[0;34m,\u001b[0m \u001b[0mcell\u001b[0m\u001b[0;34m)\u001b[0m\u001b[0;34m\u001b[0m\u001b[0m\n\u001b[0m\u001b[1;32m   2168\u001b[0m             \u001b[0;32mreturn\u001b[0m \u001b[0mresult\u001b[0m\u001b[0;34m\u001b[0m\u001b[0m\n\u001b[1;32m   2169\u001b[0m \u001b[0;34m\u001b[0m\u001b[0m\n",
      "\u001b[0;32m<decorator-gen-127>\u001b[0m in \u001b[0;36mcython\u001b[0;34m(self, line, cell)\u001b[0m\n",
      "\u001b[0;32m/usr/local/lib/python3.7/site-packages/IPython/core/magic.py\u001b[0m in \u001b[0;36m<lambda>\u001b[0;34m(f, *a, **k)\u001b[0m\n\u001b[1;32m    185\u001b[0m     \u001b[0;31m# but it's overkill for just that one bit of state.\u001b[0m\u001b[0;34m\u001b[0m\u001b[0;34m\u001b[0m\u001b[0m\n\u001b[1;32m    186\u001b[0m     \u001b[0;32mdef\u001b[0m \u001b[0mmagic_deco\u001b[0m\u001b[0;34m(\u001b[0m\u001b[0marg\u001b[0m\u001b[0;34m)\u001b[0m\u001b[0;34m:\u001b[0m\u001b[0;34m\u001b[0m\u001b[0m\n\u001b[0;32m--> 187\u001b[0;31m         \u001b[0mcall\u001b[0m \u001b[0;34m=\u001b[0m \u001b[0;32mlambda\u001b[0m \u001b[0mf\u001b[0m\u001b[0;34m,\u001b[0m \u001b[0;34m*\u001b[0m\u001b[0ma\u001b[0m\u001b[0;34m,\u001b[0m \u001b[0;34m**\u001b[0m\u001b[0mk\u001b[0m\u001b[0;34m:\u001b[0m \u001b[0mf\u001b[0m\u001b[0;34m(\u001b[0m\u001b[0;34m*\u001b[0m\u001b[0ma\u001b[0m\u001b[0;34m,\u001b[0m \u001b[0;34m**\u001b[0m\u001b[0mk\u001b[0m\u001b[0;34m)\u001b[0m\u001b[0;34m\u001b[0m\u001b[0m\n\u001b[0m\u001b[1;32m    188\u001b[0m \u001b[0;34m\u001b[0m\u001b[0m\n\u001b[1;32m    189\u001b[0m         \u001b[0;32mif\u001b[0m \u001b[0mcallable\u001b[0m\u001b[0;34m(\u001b[0m\u001b[0marg\u001b[0m\u001b[0;34m)\u001b[0m\u001b[0;34m:\u001b[0m\u001b[0;34m\u001b[0m\u001b[0m\n",
      "\u001b[0;32m/usr/local/lib/python3.7/site-packages/Cython/Build/IpythonMagic.py\u001b[0m in \u001b[0;36mcython\u001b[0;34m(self, line, cell)\u001b[0m\n\u001b[1;32m    319\u001b[0m         \u001b[0;32mif\u001b[0m \u001b[0mneed_cythonize\u001b[0m\u001b[0;34m:\u001b[0m\u001b[0;34m\u001b[0m\u001b[0m\n\u001b[1;32m    320\u001b[0m             \u001b[0mextensions\u001b[0m \u001b[0;34m=\u001b[0m \u001b[0mself\u001b[0m\u001b[0;34m.\u001b[0m\u001b[0m_cythonize\u001b[0m\u001b[0;34m(\u001b[0m\u001b[0mmodule_name\u001b[0m\u001b[0;34m,\u001b[0m \u001b[0mcode\u001b[0m\u001b[0;34m,\u001b[0m \u001b[0mlib_dir\u001b[0m\u001b[0;34m,\u001b[0m \u001b[0margs\u001b[0m\u001b[0;34m,\u001b[0m \u001b[0mquiet\u001b[0m\u001b[0;34m=\u001b[0m\u001b[0margs\u001b[0m\u001b[0;34m.\u001b[0m\u001b[0mquiet\u001b[0m\u001b[0;34m)\u001b[0m\u001b[0;34m\u001b[0m\u001b[0m\n\u001b[0;32m--> 321\u001b[0;31m             \u001b[0;32massert\u001b[0m \u001b[0mlen\u001b[0m\u001b[0;34m(\u001b[0m\u001b[0mextensions\u001b[0m\u001b[0;34m)\u001b[0m \u001b[0;34m==\u001b[0m \u001b[0;36m1\u001b[0m\u001b[0;34m\u001b[0m\u001b[0m\n\u001b[0m\u001b[1;32m    322\u001b[0m             \u001b[0mextension\u001b[0m \u001b[0;34m=\u001b[0m \u001b[0mextensions\u001b[0m\u001b[0;34m[\u001b[0m\u001b[0;36m0\u001b[0m\u001b[0;34m]\u001b[0m\u001b[0;34m\u001b[0m\u001b[0m\n\u001b[1;32m    323\u001b[0m             \u001b[0mself\u001b[0m\u001b[0;34m.\u001b[0m\u001b[0m_code_cache\u001b[0m\u001b[0;34m[\u001b[0m\u001b[0mkey\u001b[0m\u001b[0;34m]\u001b[0m \u001b[0;34m=\u001b[0m \u001b[0mmodule_name\u001b[0m\u001b[0;34m\u001b[0m\u001b[0m\n",
      "\u001b[0;31mTypeError\u001b[0m: object of type 'NoneType' has no len()"
     ]
    }
   ],
   "source": [
    "%%cython\n",
    "\n",
    "cpdef bilinear_interpolation(double[:, ::1] image, double x, double y):\n",
    "    cdef Py_ssize_t n_rows\n",
    "    cdef Py_ssize_t n_cols\n",
    "    \n",
    "    n_rows = image.shape[0]\n",
    "    n_cols = image.shape[1]\n",
    "    \n",
    "    return _bilinear_interpolation(&image[0][0], n_rows, n_cols, x, y)"
   ]
  },
  {
   "cell_type": "code",
   "execution_count": 47,
   "metadata": {},
   "outputs": [
    {
     "ename": "SyntaxError",
     "evalue": "invalid syntax (<ipython-input-47-ea37f9005785>, line 1)",
     "output_type": "error",
     "traceback": [
      "\u001b[0;36m  File \u001b[0;32m\"<ipython-input-47-ea37f9005785>\"\u001b[0;36m, line \u001b[0;32m1\u001b[0m\n\u001b[0;31m    def jdd(double[:, ::1] image,int x0, int y0, int P, int R):\u001b[0m\n\u001b[0m                  ^\u001b[0m\n\u001b[0;31mSyntaxError\u001b[0m\u001b[0;31m:\u001b[0m invalid syntax\n"
     ]
    }
   ],
   "source": [
    "def jdd(double[:, ::1] image,int x0, int y0, int P, int R):\n",
    "    cdef Py_ssize_t n_rows, n_cols\n",
    "    n_rows = image.shape[0]\n",
    "    n_cols = image.shape[1]\n",
    "    \n",
    "    T = joint_difference_distribution(&image[0][0], n_rows, n_cols, x0, y0, P, R)\n",
    "    \n",
    "    T_nopoint = [p for p in T[:P]]\n",
    "    \n",
    "    s_T = binary_joint_distribution(T, P)\n",
    "    \n",
    "    return [p for p in s_T[:P]]"
   ]
  },
  {
   "cell_type": "markdown",
   "metadata": {},
   "source": [
    "[1] https://www.itu.int/dms_pubrec/itu-r/rec/bt/R-REC-BT.601-7-201103-I!!PDF-E.pdf\n",
    "\n",
    "[2] https://github.com/scikit-image/scikit-image/blob/master/skimage/color/colorconv.py#L384\n",
    "\n",
    "[3] Ojala, T., Pietikäinen, M., & Mäenpää, T. (2002). Multiresolution gray-scale and rotation invariant texture classification with local binary patterns. IEEE Transactions on Pattern Analysis and Machine Intelligence, 24(7), 971–987."
   ]
  }
 ],
 "metadata": {
  "kernelspec": {
   "display_name": "Python 3",
   "language": "python",
   "name": "python3"
  },
  "language_info": {
   "codemirror_mode": {
    "name": "ipython",
    "version": 3
   },
   "file_extension": ".py",
   "mimetype": "text/x-python",
   "name": "python",
   "nbconvert_exporter": "python",
   "pygments_lexer": "ipython3",
   "version": "3.7.0"
  }
 },
 "nbformat": 4,
 "nbformat_minor": 2
}
