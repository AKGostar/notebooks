{
 "cells": [
  {
   "cell_type": "code",
   "execution_count": 11,
   "metadata": {},
   "outputs": [],
   "source": [
    "import numpy as np\n",
    "import skimage.io\n",
    "import matplotlib.pyplot as plt\n",
    "from scipy import interpolate\n",
    "\n",
    "import urllib.request as request"
   ]
  },
  {
   "cell_type": "markdown",
   "metadata": {},
   "source": [
    "# Local Binary Patterns\n",
    "\n",
    "## Circularly Symmetric Neighbor Set\n",
    "\n",
    "We define a texture *T* as the collection of pixels in a gray scale image\n",
    "\n",
    "$$T = t(g_c, g_0, ..., g_{P-1})$$\n",
    "\n",
    "where $p_c$ is the value of the center pixel and $g_p$ corresponds to the value of a local neighboor. To calculate the coordinates of a neighbor we need the following formulas\n",
    "$$i = -R\\sin\\big(\\frac{2\\pi p}{ P}\\big)$$\n",
    "\n",
    "and\n",
    "\n",
    "$$j = R\\cos\\big(\\frac{2\\pi p}{P}\\big)$$"
   ]
  },
  {
   "cell_type": "code",
   "execution_count": 2,
   "metadata": {},
   "outputs": [],
   "source": [
    "def neighbor_coordinate(center_coordinates, p, P, R):\n",
    "    x_0, y_0 = center_coordinates\n",
    "    \n",
    "    x = x_0 + R * np.cos(2 * np.pi * p / P)\n",
    "    y = y_0 - R * np.sin(2 * np.pi * p / P)\n",
    "        \n",
    "    return x, y\n",
    "\n",
    "def calculate_neighborhood(center_coordinates, P, R):\n",
    "    return np.array([neighbor_coordinate(center_coordinates, p, P, R) for p in range(P)])"
   ]
  },
  {
   "cell_type": "code",
   "execution_count": 115,
   "metadata": {},
   "outputs": [],
   "source": [
    "def plot_neigborhood(x, y):\n",
    "    plt.scatter(x, y)\n",
    "    plt.axis('square')\n",
    "    plt.grid(True)\n",
    "    plt.xticks(np.arange(-2, 3, 1.0))\n",
    "    plt.yticks(np.arange(-2, 3, 1.0))\n",
    "    plt.show()"
   ]
  },
  {
   "cell_type": "code",
   "execution_count": 116,
   "metadata": {},
   "outputs": [
    {
     "data": {
      "image/png": "[encoded data removed]",
      "text/plain": [
       "<Figure size 432x288 with 1 Axes>"
      ]
     },
     "metadata": {},
     "output_type": "display_data"
    }
   ],
   "source": [
    "R = 3\n",
    "P = 24\n",
    "center_coordinates = np.array([0, 0])\n",
    "\n",
    "coordinates = calculate_neighborhood(center_coordinates, P, R)\n",
    "coordinates = np.concatenate((np.array([center_coordinates]), coordinates))\n",
    "\n",
    "x = coordinates[:, 0]\n",
    "y = coordinates[:, 1]\n",
    "\n",
    "plot_neigborhood(x, y)"
   ]
  },
  {
   "cell_type": "markdown",
   "metadata": {},
   "source": [
    "### Interpolation\n",
    "\n",
    "When a neighbor is not located in the center of a pixel, that neighbor value should be calculated by interpolation. Thus, we need to define a function that given a coordinate, interpolates the value."
   ]
  },
  {
   "cell_type": "code",
   "execution_count": 3,
   "metadata": {},
   "outputs": [],
   "source": [
    "def interpolate2d(gray_img, kind='cubic'):\n",
    "    \"\"\"\n",
    "    Returns a function f(x,y) that returns the interpolated value\n",
    "    of gray_img where (x,y) is the coordinate.\n",
    "    \"\"\"\n",
    "    assert gray_img.ndim == 2, 'It should be a two dimentional image (gray)'\n",
    "    h, w = gray_img.shape\n",
    "\n",
    "    x = np.arange(0, w)\n",
    "    y = np.arange(0, h)\n",
    "\n",
    "    return interpolate.interp2d(x, y, gray_img, kind=kind)"
   ]
  },
  {
   "cell_type": "code",
   "execution_count": 13,
   "metadata": {},
   "outputs": [],
   "source": [
    "def calculate_neiborhood_values(neigborhood, interpolation_function):\n",
    "    gray_values = np.apply_along_axis(lambda pt: interpolation_function(*pt), axis=1, arr=neigborhood)\n",
    "    return gray_values.ravel()"
   ]
  },
  {
   "cell_type": "markdown",
   "metadata": {},
   "source": [
    "### Joint Difference Distribution\n",
    "\n",
    "The joint difference distribution is a highly discriminative texture operator. It records the ocurrences of various patterns in the neighborhood of each pixel in a P-dimentional histogram.\n",
    "\n",
    "$$T \\approx t(g_0 - g_c, g_1 - g_c, ... g_{p-1} - g_c)$$\n",
    "\n",
    "where $g_0$ is the gray value of the center pixel and $g_p$ is the gray value of the $p$ neighbor. This distribution is invariant against gray-scale shifts."
   ]
  },
  {
   "cell_type": "code",
   "execution_count": 59,
   "metadata": {},
   "outputs": [],
   "source": [
    "def joint_difference_distribution(gray_img, center_coordinates, P, R):\n",
    "    neigborhood = calculate_neighborhood(center_coordinates, P, R)\n",
    "    f = interpolate2d(gray_img, kind='cubic')\n",
    "    g_p = calculate_neiborhood_values(neigborhood, f)\n",
    "    g_c = f(*center_coordinates)\n",
    "    \n",
    "    return np.round(g_p - g_c, 15)\n",
    "\n",
    "def binary_joint_distribution(gray_img, center_coordinates, P, R):\n",
    "    T = joint_difference_distribution(gray_img, center_coordinates, P, R)\n",
    "    return np.where(T >= 0, 1, 0)"
   ]
  },
  {
   "cell_type": "markdown",
   "metadata": {},
   "source": [
    "### Local Binary Pattern\n",
    "\n",
    "$LBP_{P,R}$ operater is by definition invariant against any monotonic transformation of the gray scale. As long as the order of the gray values stays the same, the output of the $LBP_{P,R}$ operator remains constant.\n",
    "\n",
    "$$LBP_{P,R} = \\sum_{p=0}^{P-1} s(g_p - g_c) 2^p$$\n",
    "\n",
    "where \n",
    "\n",
    "$$s(x) = \n",
    "\\begin{cases} \n",
    "    1 & x\\geq0 \\\\\n",
    "    0 & x<0\n",
    "\\end{cases}\n",
    "$$"
   ]
  },
  {
   "cell_type": "code",
   "execution_count": 58,
   "metadata": {},
   "outputs": [],
   "source": [
    "def LBP(gray_img, center_coordinates, P, R):\n",
    "    s = binary_joint_distribution(gray_img, center_coordinates, P, R)\n",
    "    p = np.arange(0, P)\n",
    "    binomial_factor = 2 ** p\n",
    "    return np.sum(binomial_factor * s)"
   ]
  },
  {
   "cell_type": "markdown",
   "metadata": {},
   "source": [
    "## Conversion RGB a YUV\n",
    "\n",
    "According to [1], converting from RGB to Y'UV we need the following equations:\n",
    "\n",
    "$$Y' = W_R R + W_G G + W_b B$$\n",
    "\n",
    "$$U = U_{max} \\frac{B - Y'}{1 - W_B}$$\n",
    "\n",
    "$$V = V_{max} \\frac{R - Y'}{1 - W_R}$$\n",
    "\n",
    "$$W_R = 0.299;\\hspace{0.5em}W_G = 1 - W_R - W_B;\\hspace{0.5em}W_B = 0.114;\\hspace{0.5em}U_{max} = 0.436;\\hspace{0.5em}V_{max} = 0.615$$\n",
    "\n",
    "where R, G, B are the matrix representation of red, green and blue channels. The previous equations, can be represented as a matrix multiplication\n",
    "\n",
    "$$\n",
    "\\begin{bmatrix}\n",
    "        Y'  \\\\\n",
    "        U \\\\\n",
    "        V\n",
    "\\end{bmatrix} =\n",
    "\\begin{bmatrix}\n",
    "        0.299 & 0.587 & 1.114 &  \\\\\n",
    "        -0.14713 & -0.28886 & 0.436 \\\\\n",
    "        0.615 & -0.51499 & -0.10001\n",
    "\\end{bmatrix}\n",
    "\\begin{bmatrix}\n",
    "        R  \\\\\n",
    "        G \\\\\n",
    "        B\n",
    "\\end{bmatrix}\n",
    "$$\n",
    "\n",
    "*Hint: I took more precise weights from [2]"
   ]
  },
  {
   "cell_type": "code",
   "execution_count": 189,
   "metadata": {},
   "outputs": [],
   "source": [
    "def rgb2yuv(rgb):\n",
    "    error_message = 'The image must be RBG'\n",
    "    assert len(rgb.shape)== 3, error_message\n",
    "    assert rgb.shape[-1] == 3, error_message\n",
    "    \n",
    "    W = np.array([\n",
    "        [ 0.299     ,  0.587     ,  0.114      ],\n",
    "        [-0.14714119, -0.28886916,  0.43601035 ],\n",
    "        [ 0.61497538, -0.51496512, -0.10001026 ]\n",
    "    ])\n",
    "    \n",
    "    return rgb @ W.T"
   ]
  },
  {
   "cell_type": "markdown",
   "metadata": {},
   "source": [
    "# Color Moments\n",
    "\n",
    "### Mean\n",
    "$$\\mu_i = \\frac{1}{N} \\sum_{j=1}^N p_{ij}$$\n",
    "\n",
    "where *N* is the number of pixes in the image and $p_{ij}$ is the value of the j-th pixel of the i-th color channel. \n",
    "\n",
    "### Standard Deviation\n",
    "\n",
    "$$\\sigma_i = \\sqrt{\\frac{1}{N} \\sum_{j=1}^N (p_{ij} - \\mu_i) ^ 2}$$\n",
    "\n",
    "where $\\mu_i$ is the mean of the i-th color channel."
   ]
  },
  {
   "cell_type": "code",
   "execution_count": 206,
   "metadata": {},
   "outputs": [],
   "source": [
    "def color_moment(image, order=1):\n",
    "    dim = image.ndim\n",
    "    axis = tuple([i for i in range(img.ndim - 1)])\n",
    "    \n",
    "    if order == 1:\n",
    "        return np.mean(image, axis=axis)\n",
    "    if order == 2:\n",
    "        return np.std(image, axis=axis)\n",
    "    else:\n",
    "        raise ValueError('Order should be 1 for mean or 2 for std')"
   ]
  },
  {
   "cell_type": "markdown",
   "metadata": {},
   "source": [
    "## Auxiliary Functions"
   ]
  },
  {
   "cell_type": "code",
   "execution_count": 7,
   "metadata": {},
   "outputs": [],
   "source": [
    "def load_image(url, as_gray=False):\n",
    "    image_stream = request.urlopen(url)\n",
    "    return skimage.io.imread(image_stream, as_gray=as_gray, plugin='pil')\n",
    "\n",
    "import skimage.color\n",
    "\n",
    "url = 'https://www.propertyfinder.ae/property/9607847b4ffe15366c4cae076dafb4f3/668/452/MODE/e71028/5993980-3b974o.webp'\n",
    "img = load_image(url, False)\n",
    "img_rgb = skimage.color.rgba2rgb(img)"
   ]
  },
  {
   "cell_type": "code",
   "execution_count": 205,
   "metadata": {},
   "outputs": [
    {
     "data": {
      "text/plain": [
       "array([203.00454732, 190.1900204 , 178.4292764 , 255.        ])"
      ]
     },
     "execution_count": 205,
     "metadata": {},
     "output_type": "execute_result"
    }
   ],
   "source": [
    "axis = tuple([i for i in range(img.ndim - 1)])\n",
    "np.mean(img, axis=axis)"
   ]
  },
  {
   "cell_type": "code",
   "execution_count": 214,
   "metadata": {},
   "outputs": [
    {
     "data": {
      "text/plain": [
       "array([0.79609626, 0.74584322, 0.69972265])"
      ]
     },
     "execution_count": 214,
     "metadata": {},
     "output_type": "execute_result"
    }
   ],
   "source": [
    "color_moment(img_rgb, order=1)"
   ]
  },
  {
   "cell_type": "code",
   "execution_count": 190,
   "metadata": {
    "scrolled": true
   },
   "outputs": [
    {
     "data": {
      "text/plain": [
       "array([[[ 0.56658039, -0.05881788,  0.04996041],\n",
       "        [ 0.56658039, -0.05881788,  0.04996041],\n",
       "        [ 0.56658039, -0.05881788,  0.04996041],\n",
       "        ...,\n",
       "        [ 0.51092941, -0.0468702 ,  0.05405783],\n",
       "        [ 0.51092941, -0.0468702 ,  0.05405783],\n",
       "        [ 0.51092941, -0.0468702 ,  0.05405783]],\n",
       "\n",
       "       [[ 0.56658039, -0.05881788,  0.04996041],\n",
       "        [ 0.56658039, -0.05881788,  0.04996041],\n",
       "        [ 0.56658039, -0.05881788,  0.04996041],\n",
       "        ...,\n",
       "        [ 0.51092941, -0.0468702 ,  0.05405783],\n",
       "        [ 0.51092941, -0.0468702 ,  0.05405783],\n",
       "        [ 0.51092941, -0.0468702 ,  0.05405783]],\n",
       "\n",
       "       [[ 0.56658039, -0.05881788,  0.04996041],\n",
       "        [ 0.56658039, -0.05881788,  0.04996041],\n",
       "        [ 0.56658039, -0.05881788,  0.04996041],\n",
       "        ...,\n",
       "        [ 0.51602353, -0.04744722,  0.0564695 ],\n",
       "        [ 0.51602353, -0.04744722,  0.0564695 ],\n",
       "        [ 0.51602353, -0.04744722,  0.0564695 ]],\n",
       "\n",
       "       ...,\n",
       "\n",
       "       [[ 0.49478824, -0.02348817,  0.04413594],\n",
       "        [ 0.49478824, -0.02348817,  0.04413594],\n",
       "        [ 0.4987098 , -0.02348817,  0.04413594],\n",
       "        ...,\n",
       "        [ 0.47942353, -0.02750611,  0.05417481],\n",
       "        [ 0.47942353, -0.02750611,  0.05417481],\n",
       "        [ 0.47942353, -0.02750611,  0.05417481]],\n",
       "\n",
       "       [[ 0.4869451 , -0.02348817,  0.04413594],\n",
       "        [ 0.4869451 , -0.02348817,  0.04413594],\n",
       "        [ 0.49478824, -0.02348817,  0.04413594],\n",
       "        ...,\n",
       "        [ 0.47942353, -0.02750611,  0.05417481],\n",
       "        [ 0.47942353, -0.02750611,  0.05417481],\n",
       "        [ 0.47942353, -0.02750611,  0.05417481]],\n",
       "\n",
       "       [[ 0.4869451 , -0.02348817,  0.04413594],\n",
       "        [ 0.4869451 , -0.02348817,  0.04413594],\n",
       "        [ 0.49478824, -0.02348817,  0.04413594],\n",
       "        ...,\n",
       "        [ 0.47942353, -0.02750611,  0.05417481],\n",
       "        [ 0.47942353, -0.02750611,  0.05417481],\n",
       "        [ 0.47942353, -0.02750611,  0.05417481]]])"
      ]
     },
     "execution_count": 190,
     "metadata": {},
     "output_type": "execute_result"
    }
   ],
   "source": [
    "rgb2yuv(img_rgb)"
   ]
  },
  {
   "cell_type": "code",
   "execution_count": 61,
   "metadata": {},
   "outputs": [
    {
     "name": "stdout",
     "output_type": "stream",
     "text": [
      "[1 1 0 1]\n",
      "11\n"
     ]
    }
   ],
   "source": [
    "gray_img = skimage.color.rgb2gray(img_rgb)\n",
    "\n",
    "R = 1\n",
    "P = 4\n",
    "center_coordinates = [300, 300]\n",
    "\n",
    "print(binary_joint_distribution(gray_img, center_coordinates, P, R))\n",
    "print(LBP(gray_img, center_coordinates, P, R))"
   ]
  },
  {
   "cell_type": "markdown",
   "metadata": {},
   "source": [
    "[1] https://www.itu.int/dms_pubrec/itu-r/rec/bt/R-REC-BT.601-7-201103-I!!PDF-E.pdf\n",
    "\n",
    "[2] https://github.com/scikit-image/scikit-image/blob/master/skimage/color/colorconv.py#L384"
   ]
  }
 ],
 "metadata": {
  "kernelspec": {
   "display_name": "Python 3",
   "language": "python",
   "name": "python3"
  },
  "language_info": {
   "codemirror_mode": {
    "name": "ipython",
    "version": 3
   },
   "file_extension": ".py",
   "mimetype": "text/x-python",
   "name": "python",
   "nbconvert_exporter": "python",
   "pygments_lexer": "ipython3",
   "version": "3.7.0"
  }
 },
 "nbformat": 4,
 "nbformat_minor": 2
}
