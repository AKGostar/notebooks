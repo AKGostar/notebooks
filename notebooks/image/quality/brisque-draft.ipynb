{
 "cells": [
  {
   "cell_type": "code",
   "execution_count": 1,
   "metadata": {},
   "outputs": [],
   "source": [
    "import numpy as np\n",
    "import urllib.request as request\n",
    "\n",
    "import scipy.signal as signal\n",
    "import scipy.ndimage.filters as filters\n",
    "import scipy.special as special\n",
    "import scipy.optimize as optimize\n",
    "\n",
    "import matplotlib.pyplot as plt\n",
    "\n",
    "import skimage.io\n",
    "import skimage.transform\n",
    "\n",
    "import cv2\n",
    "\n",
    "import svm \n",
    "import svmutil"
   ]
  },
  {
   "cell_type": "code",
   "execution_count": 2,
   "metadata": {},
   "outputs": [],
   "source": [
    "def generalized_gaussian_dist(x, m, alpha, sigma):\n",
    "    def beta():\n",
    "        return sigma * np.sqrt(special.gamma(1 / alpha) / special.gamma(3 / alpha))\n",
    "    \n",
    "    coefficient = alpha / (2 * beta() * special.gamma(1 / alpha))\n",
    "    return m * coefficient * np.exp(-(np.abs(x) / beta()) ** alpha)\n",
    "\n",
    "\n",
    "def asymmetric_generalized_gaussian_dist(x, m, nu, sigma_l, sigma_r):\n",
    "    def beta(sigma):\n",
    "        return sigma * np.sqrt(special.gamma(1 / nu) / special.gamma(3 / nu))\n",
    "    \n",
    "    coefficient = nu / ((beta(sigma_l) + beta(sigma_r)) * special.gamma(1 / nu))\n",
    "    f = lambda x, sigma: m * coefficient * np.exp(-(x / beta(sigma)) ** nu)\n",
    "        \n",
    "    return np.where(x < 0, f(-x, sigma_l), f(x, sigma_r))\n",
    "\n",
    "\n",
    "def asymmetric_generalized_gaussian_fit(x):\n",
    "    def estimate_phi(alpha):\n",
    "        numerator = special.gamma(2 / alpha) ** 2\n",
    "        denominator = special.gamma(1 / alpha) * special.gamma(3 / alpha)\n",
    "        return numerator / denominator\n",
    "\n",
    "    def estimate_r_hat(x):\n",
    "        size = np.prod(x.shape)\n",
    "        return (np.sum(np.abs(x)) / size) ** 2 / (np.sum(x ** 2) / size)\n",
    "\n",
    "    def estimate_R_hat(r_hat, gamma):\n",
    "        numerator = (gamma ** 3 + 1) * (gamma + 1)\n",
    "        denominator = (gamma ** 2 + 1) ** 2\n",
    "        return r_hat * numerator / denominator\n",
    "\n",
    "    def mean_squares_sum(x, filter = lambda z: z == z):\n",
    "        filtered_values = x[filter(x)]\n",
    "        squares_sum = np.sum(filtered_values ** 2)\n",
    "        return squares_sum / ((filtered_values.shape))\n",
    "\n",
    "    def estimate_gamma(x):\n",
    "        left_squares = mean_squares_sum(x, lambda z: z < 0)\n",
    "        right_squares = mean_squares_sum(x, lambda z: z >= 0)\n",
    "\n",
    "        return np.sqrt(left_squares) / np.sqrt(right_squares)\n",
    "\n",
    "    def estimate_alpha(x):\n",
    "        r_hat = estimate_r_hat(x)\n",
    "        gamma = estimate_gamma(x)\n",
    "        R_hat = estimate_R_hat(r_hat, gamma)\n",
    "\n",
    "        solution = optimize.root(lambda z: estimate_phi(z) - R_hat, [0.2]).x\n",
    "\n",
    "        return solution[0]\n",
    "\n",
    "    def estimate_beta(x, alpha, filter = lambda z: z < 0):\n",
    "        first_product = np.sqrt(mean_squares_sum(x, filter))\n",
    "        second_product =np.sqrt(special.gamma(3 / alpha) / special.gamma(1 / alpha))\n",
    "\n",
    "        return  first_product\n",
    "        # Authoris don't multiply the second product\n",
    "        # return  first_product * second_product \n",
    "    \n",
    "    alpha = estimate_alpha(x)\n",
    "    beta_l = estimate_beta(x, alpha, lambda z: z < 0)\n",
    "    beta_r = estimate_beta(x, alpha, lambda z: z >= 0)\n",
    "    \n",
    "    return alpha, beta_l, beta_r\n",
    "\n",
    "\n",
    "def generalized_gaussian_fit(x):\n",
    "    alpha, beta_l, beta_r = asymmetric_generalized_gaussian_fit(x)\n",
    "    return alpha, np.sqrt((beta_l ** 2 + beta_r ** 2) / 2)\n",
    "\n",
    "def fit_distribution(x, density_function, bins=250):\n",
    "    n, bins = np.histogram(x.ravel(), bins)\n",
    "    normalized_freq = n / np.max(n)\n",
    "    \n",
    "    params, _ = optimize.curve_fit(density_function, bins[:-1], normalized_freq)\n",
    "    \n",
    "    return params"
   ]
  },
  {
   "cell_type": "code",
   "execution_count": 3,
   "metadata": {},
   "outputs": [],
   "source": [
    "def normalize_kernel(kernel):\n",
    "    \"\"\"Normalization is defined as the division of each element in the kernel by the sum of all kernel elements, \n",
    "    so that the sum of the elements of a normalized kernel is one. This will ensure the average pixel in the modified\n",
    "    image is as bright as the average pixel in the original image. \"\"\"\n",
    "    return kernel / np.sum(kernel)\n",
    "\n",
    "def gaussian_kernel_2d(n, sigma):\n",
    "    Y, X = np.indices((n, n)) - int(n/2)\n",
    "    gaussian_kernel = 1 / (2 * np.pi * sigma ** 2) * np.exp(-(X ** 2 + Y ** 2) / (2 * sigma ** 2)) \n",
    "    return normalize_kernel(gaussian_kernel)\n",
    "\n",
    "def low_pass_kernel_2d(dimension):\n",
    "    return normalize_kernel(np.ones(dimension))\n",
    "\n",
    "def low_pass_filter_2d(image):\n",
    "    kernel = low_pass_kernel_2d((3, 3))\n",
    "    return signal.convolve2d(image, kernel, 'same')"
   ]
  },
  {
   "cell_type": "code",
   "execution_count": 4,
   "metadata": {},
   "outputs": [],
   "source": [
    "def local_variance(image, local_mean, kernel):\n",
    "    sigma = signal.convolve2d(image ** 2, kernel, 'same')\n",
    "    diff = np.abs(local_mean ** 2 - sigma)\n",
    "    return np.sqrt(diff)\n",
    "\n",
    "def calculate_mean_substracted_constrast_normalized_coefficients(image, kernel_size=3, sigma=3):\n",
    "    C = 1/255\n",
    "    kernel = gaussian_kernel_2d(kernel_size, sigma=sigma)\n",
    "    local_mean = signal.convolve2d(image, kernel, 'same')\n",
    "    local_var = local_variance(image, local_mean, kernel)\n",
    "    \n",
    "    return (image - local_mean) / (local_var + C)\n",
    "\n",
    "def calculate_pair_product_coefficients(mscn_coefficients):\n",
    "    return {\n",
    "        'horizontal': mscn_coefficients[:, :-1] * mscn_coefficients[:, 1:],\n",
    "        'vertical': mscn_coefficients[:-1, :] * mscn_coefficients[1:, :],\n",
    "        'main_diagonal': mscn_coefficients[:-1, :-1] * mscn_coefficients[1:, 1:],\n",
    "        'secondary_diagonal': mscn_coefficients[1:, :-1] * mscn_coefficients[:-1, 1:]\n",
    "    }\n",
    "\n",
    "def calculate_brisque_coefficients(image, kernel_size=3, sigma=3):\n",
    "    mscn_coeff = calculate_mean_substracted_constrast_normalized_coefficients(image, kernel_size, sigma)\n",
    "    pair_prod_coeff = calculate_pair_product_coefficients(mscn_coeff)\n",
    "    \n",
    "    return dict(**pair_prod_coeff, **{'mscn': mscn_coeff})\n",
    "\n",
    "\n",
    "def calculate_mscn_features(coefficients):\n",
    "    alpha, sigma = generalized_gaussian_fit(coefficients)\n",
    "    return [alpha, sigma ** 2]\n",
    "    \n",
    "\n",
    "def calculate_pair_product_features(coefficients):\n",
    "    alpha, sigma_l, sigma_r = asymmetric_generalized_gaussian_fit(coefficients)\n",
    "    constant = np.sqrt(special.gamma(1 / alpha) / special.gamma(3 / alpha))\n",
    "    mean = (sigma_r - sigma_l) * constant * (special.gamma(2 / alpha) / special.gamma(1 / alpha))\n",
    "    return [alpha, mean, sigma_l ** 2, sigma_r ** 2]\n",
    "\n",
    "\n",
    "def calculate_brisque_features(image, kernel_size=3, sigma=3):\n",
    "    features = []\n",
    "    \n",
    "    coefficients = calculate_brisque_coefficients(image, kernel_size, sigma)\n",
    "    mscn_features = calculate_mscn_features(coefficients['mscn'])\n",
    "    \n",
    "    feature_order = ['horizontal', 'vertical', 'main_diagonal', 'secondary_diagonal']\n",
    "    \n",
    "    for label in feature_order:\n",
    "        features = features + calculate_pair_product_features(coefficients[label])\n",
    "    \n",
    "    return np.array(mscn_features + features)\n",
    "\n",
    "def normalize_features(features):\n",
    "    x = []\n",
    "    \n",
    "    min_= [0.336999 ,0.019667 ,0.230000 ,-0.125959 ,0.000167 ,0.000616 ,0.231000 ,\n",
    "           -0.125873 ,0.000165 ,0.000600 ,0.241000 ,-0.128814 ,0.000179 ,0.000386 ,\n",
    "           0.243000 ,-0.133080 ,0.000182 ,0.000421 ,0.436998 ,0.016929 ,0.247000 ,\n",
    "           -0.200231 ,0.000104 ,0.000834 ,0.257000 ,-0.200017 ,0.000112 ,0.000876 ,\n",
    "           0.257000 ,-0.155072 ,0.000112 ,0.000356 ,0.258000 ,-0.154374 ,0.000117 ,0.000351]\n",
    "    max_= [9.999411, 0.807472, 1.644021, 0.202917, 0.712384, 0.468672, 1.644021, 0.169548, \n",
    "           0.713132, 0.467896, 1.553016, 0.101368, 0.687324, 0.533087, 1.554016, 0.101000, \n",
    "           0.689177, 0.533133, 3.639918, 0.800955, 1.096995, 0.175286, 0.755547, 0.399270, \n",
    "           1.095995, 0.155928, 0.751488, 0.402398, 1.041992, 0.093209, 0.623516, 0.532925, \n",
    "           1.042992, 0.093714, 0.621958, 0.534484]\n",
    "   \n",
    "    for i in range(0, 36):\n",
    "        x.append(-1 + (2.0 / (max_[i] - min_[i]) * (features[i] - min_[i])))\n",
    "    \n",
    "    return np.array(x)\n",
    "\n",
    "\n",
    "def calculate_brisque_quality_score(image=None, normalized_brisque_features=None, kernel_size=3, sigma=3):\n",
    "    assert image is not None or normalized_brisque_features is not None\n",
    "    \n",
    "    if image is not None:\n",
    "        brisque_features = calculate_brisque_features(image, kernel_size, sigma)\n",
    "        \n",
    "#         downscaled_image = skimage.transform.downscale_local_mean(image, (2, 2))\n",
    "        downscaled_image = cv2.resize(image, None, fx=1/2, fy=1/2, interpolation = cv2.INTER_CUBIC)\n",
    "        downscale_brisque_features = calculate_brisque_features(downscaled_image, kernel_size, sigma)\n",
    "        \n",
    "        features = np.concatenate((brisque_features, downscale_brisque_features), axis=None)\n",
    "        normalized_brisque_features = normalize_features(features)\n",
    "    \n",
    "    model = svmutil.svm_load_model('brisque_svm.txt')\n",
    "    \n",
    "    x, idx = svmutil.gen_svm_nodearray(normalized_brisque_features, isKernel=(model.param.kernel_type == svmutil.PRECOMPUTED))\n",
    "    nr_classifier = 1\n",
    "    prob_estimates = (svmutil.c_double * nr_classifier)()\n",
    "    \n",
    "    return svmutil.libsvm.svm_predict_probability(model, x, prob_estimates)"
   ]
  },
  {
   "cell_type": "code",
   "execution_count": 7,
   "metadata": {},
   "outputs": [
    {
     "ename": "AttributeError",
     "evalue": "module 'os' has no attribute 'env'",
     "output_type": "error",
     "traceback": [
      "\u001b[0;31m---------------------------------------------------------------------------\u001b[0m",
      "\u001b[0;31mAttributeError\u001b[0m                            Traceback (most recent call last)",
      "\u001b[0;32m<ipython-input-7-76953a45483c>\u001b[0m in \u001b[0;36m<module>\u001b[0;34m()\u001b[0m\n\u001b[1;32m      1\u001b[0m \u001b[0;32mimport\u001b[0m \u001b[0mos\u001b[0m\u001b[0;34m\u001b[0m\u001b[0m\n\u001b[0;32m----> 2\u001b[0;31m \u001b[0mDATA_PATH\u001b[0m \u001b[0;34m=\u001b[0m \u001b[0mos\u001b[0m\u001b[0;34m.\u001b[0m\u001b[0menv\u001b[0m\u001b[0;34m[\u001b[0m\u001b[0;34m'HOME'\u001b[0m\u001b[0;34m]\u001b[0m\u001b[0;34m\u001b[0m\u001b[0m\n\u001b[0m\u001b[1;32m      3\u001b[0m \u001b[0;34m\u001b[0m\u001b[0m\n\u001b[1;32m      4\u001b[0m \u001b[0mimage\u001b[0m \u001b[0;34m=\u001b[0m \u001b[0mskimage\u001b[0m\u001b[0;34m.\u001b[0m\u001b[0mio\u001b[0m\u001b[0;34m.\u001b[0m\u001b[0mimread\u001b[0m\u001b[0;34m(\u001b[0m\u001b[0;34m'~/data/I01.BMP'\u001b[0m\u001b[0;34m,\u001b[0m \u001b[0mas_gray\u001b[0m\u001b[0;34m=\u001b[0m\u001b[0;32mTrue\u001b[0m\u001b[0;34m)\u001b[0m\u001b[0;34m\u001b[0m\u001b[0m\n\u001b[1;32m      5\u001b[0m \u001b[0mskimage\u001b[0m\u001b[0;34m.\u001b[0m\u001b[0mio\u001b[0m\u001b[0;34m.\u001b[0m\u001b[0mimshow\u001b[0m\u001b[0;34m(\u001b[0m\u001b[0mimage\u001b[0m\u001b[0;34m)\u001b[0m\u001b[0;34m\u001b[0m\u001b[0m\n",
      "\u001b[0;31mAttributeError\u001b[0m: module 'os' has no attribute 'env'"
     ]
    }
   ],
   "source": [
    "import os\n",
    "DATA_PATH = os.env['HOME'] \n",
    "\n",
    "image = skimage.io.imread('~/data/I01.BMP', as_gray=True)\n",
    "skimage.io.imshow(image)"
   ]
  },
  {
   "cell_type": "code",
   "execution_count": null,
   "metadata": {},
   "outputs": [],
   "source": [
    "G = gaussian_kernel_2d(3, sigma=3)\n",
    "\n",
    "local_mean_field = signal.convolve2d(image, G, 'same')\n",
    "skimage.io.imshow(local_mean_field)"
   ]
  },
  {
   "cell_type": "code",
   "execution_count": null,
   "metadata": {},
   "outputs": [],
   "source": [
    "diff = image - local_mean_field\n",
    "skimage.io.imshow(diff)"
   ]
  },
  {
   "cell_type": "code",
   "execution_count": null,
   "metadata": {},
   "outputs": [],
   "source": [
    "local_var = local_variance(image, local_mean_field, G)\n",
    "skimage.io.imshow(local_var)"
   ]
  },
  {
   "cell_type": "code",
   "execution_count": null,
   "metadata": {},
   "outputs": [],
   "source": [
    "mscn_coefficients = calculate_mean_substracted_constrast_normalized_coefficients(image)\n",
    "skimage.io.imshow(mscn_coefficients)"
   ]
  },
  {
   "cell_type": "code",
   "execution_count": null,
   "metadata": {},
   "outputs": [],
   "source": [
    "n, bins = np.histogram(mscn_coefficients.ravel(), bins=250)\n",
    "n = n / np.max(n)\n",
    "plt.plot(bins[:-1], n)"
   ]
  },
  {
   "cell_type": "code",
   "execution_count": null,
   "metadata": {},
   "outputs": [],
   "source": [
    "parameters = fit_distribution(mscn_coefficients, generalized_gaussian_dist)\n",
    "print(parameters)"
   ]
  },
  {
   "cell_type": "code",
   "execution_count": null,
   "metadata": {},
   "outputs": [],
   "source": [
    "xdata = np.linspace(-2, 2, 200)\n",
    "ydata = generalized_gaussian_dist(xdata, *parameters)\n",
    "plt.plot(xdata, ydata)\n",
    "plt.plot(bins[:-1], n)\n",
    "plt.show()"
   ]
  },
  {
   "cell_type": "code",
   "execution_count": null,
   "metadata": {},
   "outputs": [],
   "source": [
    "coeff = calculate_pair_product_coefficients(mscn_coefficients)"
   ]
  },
  {
   "cell_type": "code",
   "execution_count": null,
   "metadata": {},
   "outputs": [],
   "source": [
    "n, bins = np.histogram(coeff['vertical'].ravel(), bins=250)\n",
    "n = n / np.max(n)\n",
    "plt.plot(bins[:-1], n)"
   ]
  },
  {
   "cell_type": "code",
   "execution_count": null,
   "metadata": {},
   "outputs": [],
   "source": [
    "popt, pcov = optimize.curve_fit(asymmetric_generalized_gaussian_dist, bins[:-1], n / np.max(n))\n",
    "xdata = np.linspace(-2, 2, 200)\n",
    "print(popt)\n",
    "ydata = asymmetric_generalized_gaussian_dist(xdata, *popt)\n",
    "plt.plot(xdata, ydata)\n",
    "plt.plot(bins[:-1], n)\n",
    "plt.show()"
   ]
  },
  {
   "cell_type": "code",
   "execution_count": null,
   "metadata": {},
   "outputs": [],
   "source": [
    "def score(x):\n",
    "    image = skimage.io.imread(x, as_gray=True)    \n",
    "    return calculate_brisque_quality_score(image=image, kernel_size=7, sigma=7/6)"
   ]
  },
  {
   "cell_type": "code",
   "execution_count": null,
   "metadata": {},
   "outputs": [],
   "source": [
    "score('../data/I01_01_2.BMP')"
   ]
  },
  {
   "cell_type": "code",
   "execution_count": null,
   "metadata": {
    "scrolled": false
   },
   "outputs": [],
   "source": [
    "reference_image_paths = ['../data/I{:02d}.BMP'.format(idx) for idx in range(1, 25)]\n",
    "{image_file: score(image_file) for image_file in reference_image_paths}"
   ]
  },
  {
   "cell_type": "code",
   "execution_count": null,
   "metadata": {},
   "outputs": [],
   "source": [
    "downscaled_image = skimage.transform.downscale_local_mean(image, (2,2))\n",
    "low_pass_image = low_pass_filter_2d(downscaled_image)\n",
    "\n",
    "skimage.io.imshow(low_pass_image)"
   ]
  },
  {
   "cell_type": "code",
   "execution_count": null,
   "metadata": {},
   "outputs": [],
   "source": [
    "n, bins = np.histogram(mscn_coefficients.ravel(), bins=250)\n",
    "n = n / np.max(n)\n",
    "plt.plot(bins[:-1], n)\n",
    "\n",
    "alpha, sigma = generalized_gaussian_fit(mscn_coefficients)\n",
    "\n",
    "xdata = np.linspace(-2, 2, 200)\n",
    "ydata = generalized_gaussian_dist(xdata, 1, alpha, sigma)\n",
    "plt.plot(xdata, ydata, label='distribution')\n",
    "plt.plot(bins[:-1], n, label='histogram')\n",
    "plt.legend()\n",
    "plt.show()\n",
    "\n",
    "print('alpha: {}, sigma: {}'.format(alpha, sigma ** 2))"
   ]
  },
  {
   "cell_type": "code",
   "execution_count": null,
   "metadata": {},
   "outputs": [],
   "source": [
    "n, bins = np.histogram(coeff['vertical'].ravel(), bins=250)\n",
    "n = n / np.max(n)\n",
    "plt.plot(bins[:-1], n)\n",
    "\n",
    "alpha, beta_l, beta_r =  asymmetric_generalized_gaussian_fit(coeff['vertical'])\n",
    "\n",
    "xdata = np.linspace(-2, 2, 200)\n",
    "ydata = asymmetric_generalized_gaussian_dist(xdata, 1, alpha, beta_l, beta_r)\n",
    "plt.plot(xdata, ydata, label='distribution')\n",
    "plt.plot(bins[:-1], n, label='histogram')\n",
    "plt.legend()\n",
    "plt.show()"
   ]
  },
  {
   "cell_type": "code",
   "execution_count": null,
   "metadata": {},
   "outputs": [],
   "source": [
    "sigma_l = np.sqrt(0.0311716)\n",
    "sigma_r = np.sqrt(0.0385421)\n",
    "alpha = 0.425998\n",
    "\n",
    "constant = np.sqrt(special.gamma(1 / alpha) / special.gamma(3 / alpha))\n",
    "mean = (sigma_r - sigma_l) * constant * (special.gamma(2 / alpha) / special.gamma(1 / alpha))\n",
    "mean"
   ]
  },
  {
   "cell_type": "code",
   "execution_count": null,
   "metadata": {},
   "outputs": [],
   "source": [
    "url = 'http://www.cs.albany.edu/~xypan/research/img/Kodak/kodim05.png'\n",
    "image_stream = request.urlopen(url)\n",
    "image = skimage.io.imread(image_stream, plugin='pil')"
   ]
  },
  {
   "cell_type": "code",
   "execution_count": null,
   "metadata": {},
   "outputs": [],
   "source": [
    "skimage.io.imshow(image)\n",
    "image = skimage.color.rgb2gray(image)\n",
    "quality_score = calculate_brisque_quality_score(image=image, kernel_size=7, sigma=7/6)\n",
    "print('The image quality score is: ', quality_score)"
   ]
  },
  {
   "cell_type": "code",
   "execution_count": null,
   "metadata": {},
   "outputs": [],
   "source": []
  }
 ],
 "metadata": {
  "kernelspec": {
   "display_name": "Python 3",
   "language": "python",
   "name": "python3"
  },
  "language_info": {
   "codemirror_mode": {
    "name": "ipython",
    "version": 3
   },
   "file_extension": ".py",
   "mimetype": "text/x-python",
   "name": "python",
   "nbconvert_exporter": "python",
   "pygments_lexer": "ipython3",
   "version": "3.7.0"
  },
  "nteract": {
   "version": "nteract-on-jupyter@1.9.6"
  }
 },
 "nbformat": 4,
 "nbformat_minor": 2
}
